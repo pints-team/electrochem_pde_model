{
 "cells": [
  {
   "cell_type": "markdown",
   "id": "22a4e4ed",
   "metadata": {},
   "source": [
    "Needs to be run from terminal (in the Python environment Ben created) using Python 3."
   ]
  },
  {
   "cell_type": "code",
   "execution_count": null,
   "id": "867c695c",
   "metadata": {},
   "outputs": [],
   "source": []
  }
 ],
 "metadata": {
  "kernelspec": {
   "display_name": "Python 3 (ipykernel)",
   "language": "python",
   "name": "python3"
  },
  "language_info": {
   "codemirror_mode": {
    "name": "ipython",
    "version": 3
   },
   "file_extension": ".py",
   "mimetype": "text/x-python",
   "name": "python",
   "nbconvert_exporter": "python",
   "pygments_lexer": "ipython3",
   "version": "3.9.7"
  }
 },
 "nbformat": 4,
 "nbformat_minor": 5
}
